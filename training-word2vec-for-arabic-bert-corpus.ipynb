{
 "cells": [
  {
   "cell_type": "markdown",
   "metadata": {},
   "source": [
    "# Training Word2Vec for Arabic BERT Corpus"
   ]
  },
  {
   "cell_type": "markdown",
   "metadata": {},
   "source": [
    "The purpouse of this notebook is to show how we can train a Word2Vec model for [Arabic Corpus dataset](https://www.kaggle.com/datasets/abedkhooli/arabic-bert-corpus) using [gensim](https://pypi.org/project/gensim/)"
   ]
  },
  {
   "cell_type": "markdown",
   "metadata": {},
   "source": [
    "First, install the gensim package :"
   ]
  },
  {
   "cell_type": "code",
   "execution_count": 1,
   "metadata": {
    "execution": {
     "iopub.execute_input": "2023-09-05T06:24:26.987523Z",
     "iopub.status.busy": "2023-09-05T06:24:26.987017Z",
     "iopub.status.idle": "2023-09-05T06:24:35.541562Z",
     "shell.execute_reply": "2023-09-05T06:24:35.540376Z",
     "shell.execute_reply.started": "2023-09-05T06:24:26.987434Z"
    }
   },
   "outputs": [],
   "source": [
    "!pip install -q gensim"
   ]
  },
  {
   "cell_type": "markdown",
   "metadata": {},
   "source": [
    "Import the necessary packages :"
   ]
  },
  {
   "cell_type": "code",
   "execution_count": 2,
   "metadata": {
    "_kg_hide-input": false,
    "collapsed": false,
    "execution": {
     "iopub.execute_input": "2023-09-05T06:24:35.544244Z",
     "iopub.status.busy": "2023-09-05T06:24:35.543924Z",
     "iopub.status.idle": "2023-09-05T06:24:39.153557Z",
     "shell.execute_reply": "2023-09-05T06:24:39.152757Z",
     "shell.execute_reply.started": "2023-09-05T06:24:35.544191Z"
    },
    "jupyter": {
     "outputs_hidden": false
    }
   },
   "outputs": [],
   "source": [
    "import gc\n",
    "import spacy \n",
    "from spacy.lang.ar import Arabic\n",
    "from spacy.tokenizer import Tokenizer\n",
    "from pprint import pprint\n",
    "import matplotlib.pyplot as plt # plotting\n",
    "import numpy as np # linear algebra\n",
    "import os # accessing directory structure\n",
    "import pandas as pd # data processing, CSV file I/O (e.g. pd.read_csv)\n",
    "import random\n",
    "from gensim.test.utils import common_texts\n",
    "from gensim.models import Word2Vec"
   ]
  },
  {
   "cell_type": "markdown",
   "metadata": {},
   "source": [
    "Explore the corpus and print the path and name of some files :"
   ]
  },
  {
   "cell_type": "code",
   "execution_count": 3,
   "metadata": {
    "_kg_hide-input": false,
    "execution": {
     "iopub.execute_input": "2023-09-05T06:24:39.157579Z",
     "iopub.status.busy": "2023-09-05T06:24:39.157283Z",
     "iopub.status.idle": "2023-09-05T06:24:39.381290Z",
     "shell.execute_reply": "2023-09-05T06:24:39.380572Z",
     "shell.execute_reply.started": "2023-09-05T06:24:39.157524Z"
    }
   },
   "outputs": [
    {
     "name": "stdout",
     "output_type": "stream",
     "text": [
      "file number  0  :  /kaggle/input/ar_bert32k-vocab.txt\n",
      "file number  50  :  /kaggle/input/arwiki_books_shards/content/sharded/wiki_books_test_15.txt\n",
      "file number  100  :  /kaggle/input/arwiki_books_shards/content/sharded/wiki_books_test_125.txt\n",
      "file number  150  :  /kaggle/input/arwiki_books_shards/content/sharded/wiki_books_training_96.txt\n",
      "file number  200  :  /kaggle/input/arwiki_books_shards/content/sharded/wiki_books_training_107.txt\n",
      "file number  250  :  /kaggle/input/arwiki_books_shards/content/sharded/wiki_books_training_58.txt\n",
      "file number  300  :  /kaggle/input/arwiki_books_shards/content/sharded/wiki_books_training_2.txt\n",
      "file number  350  :  /kaggle/input/arwiki_books_shards/content/sharded/wiki_books_training_146.txt\n",
      "file number  400  :  /kaggle/input/arwiki_books_shards/content/sharded/wiki_books_training_127.txt\n",
      "file number  450  :  /kaggle/input/arwiki_books_shards/content/sharded/wiki_books_training_118.txt\n",
      "file number  500  :  /kaggle/input/arwiki_books_shards/content/sharded/wiki_books_training_17.txt\n",
      "number of files in the corpus :  514\n"
     ]
    }
   ],
   "source": [
    "# print one of each 50 lines\n",
    "i = 0\n",
    "files_list = []\n",
    "for dirname, _, filenames in os.walk('/kaggle/input'):\n",
    "    for filename in filenames:\n",
    "        files_list.append(os.path.join(dirname, filename))\n",
    "        if (i % 50) == 0:\n",
    "            print('file number ', i, ' : ', os.path.join(dirname, filename))\n",
    "        i = i + 1\n",
    "\n",
    "print('number of files in the corpus : ' , i)"
   ]
  },
  {
   "cell_type": "markdown",
   "metadata": {},
   "source": [
    "## Some explorations"
   ]
  },
  {
   "cell_type": "code",
   "execution_count": 4,
   "metadata": {
    "execution": {
     "iopub.execute_input": "2023-09-05T06:24:39.385684Z",
     "iopub.status.busy": "2023-09-05T06:24:39.385385Z",
     "iopub.status.idle": "2023-09-05T06:24:39.497441Z",
     "shell.execute_reply": "2023-09-05T06:24:39.496601Z",
     "shell.execute_reply.started": "2023-09-05T06:24:39.385588Z"
    }
   },
   "outputs": [
    {
     "name": "stdout",
     "output_type": "stream",
     "text": [
      "selected file : /kaggle/input/arwiki_books_shards/content/sharded/wiki_books_training_81.txt\n",
      "shape of dataframe :  (51914, 1)\n"
     ]
    },
    {
     "data": {
      "text/html": [
       "<div>\n",
       "<style scoped>\n",
       "    .dataframe tbody tr th:only-of-type {\n",
       "        vertical-align: middle;\n",
       "    }\n",
       "\n",
       "    .dataframe tbody tr th {\n",
       "        vertical-align: top;\n",
       "    }\n",
       "\n",
       "    .dataframe thead th {\n",
       "        text-align: right;\n",
       "    }\n",
       "</style>\n",
       "<table border=\"1\" class=\"dataframe\">\n",
       "  <thead>\n",
       "    <tr style=\"text-align: right;\">\n",
       "      <th></th>\n",
       "      <th>text</th>\n",
       "    </tr>\n",
       "  </thead>\n",
       "  <tbody>\n",
       "    <tr>\n",
       "      <th>0</th>\n",
       "      <td>زيد بن محمد بن جعفر: المعروف بابن أبي اليابس ا...</td>\n",
       "    </tr>\n",
       "    <tr>\n",
       "      <th>1</th>\n",
       "      <td>حدث ببغداد عن: إبراهيم بن عبد الله القصار، ودا...</td>\n",
       "    </tr>\n",
       "    <tr>\n",
       "      <th>2</th>\n",
       "      <td>وعنه: ابن المظفر، وأبو حفص بن شاهين، وأبو الحس...</td>\n",
       "    </tr>\n",
       "    <tr>\n",
       "      <th>3</th>\n",
       "      <td>قال الخطيب: كان صدوقا.</td>\n",
       "    </tr>\n",
       "    <tr>\n",
       "      <th>4</th>\n",
       "      <td>حرف السين: سعيد بن إبراهيم بن معقل بن الحجاج: ...</td>\n",
       "    </tr>\n",
       "  </tbody>\n",
       "</table>\n",
       "</div>"
      ],
      "text/plain": [
       "                                                text\n",
       "0  زيد بن محمد بن جعفر: المعروف بابن أبي اليابس ا...\n",
       "1  حدث ببغداد عن: إبراهيم بن عبد الله القصار، ودا...\n",
       "2  وعنه: ابن المظفر، وأبو حفص بن شاهين، وأبو الحس...\n",
       "3                             قال الخطيب: كان صدوقا.\n",
       "4  حرف السين: سعيد بن إبراهيم بن معقل بن الحجاج: ..."
      ]
     },
     "execution_count": 4,
     "metadata": {},
     "output_type": "execute_result"
    }
   ],
   "source": [
    "# choose a random file to read\n",
    "file_ = random.sample(files_list, 1)[0]\n",
    "\n",
    "# print the path of the selected file\n",
    "print('selected file :', file_)\n",
    "\n",
    "# read this random file\n",
    "data = pd.read_csv(file_, header=None, encoding='utf-8', lineterminator='\\n')\n",
    "\n",
    "# rename the 0 column\n",
    "data = data.rename(columns={0: 'text'})\n",
    "\n",
    "# shape of the dataframe\n",
    "print('shape of dataframe : ', data.shape)\n",
    "\n",
    "# take a look at the first rows\n",
    "data.head()"
   ]
  },
  {
   "cell_type": "markdown",
   "metadata": {},
   "source": [
    "As you can see, the text is reversed as Arabic reads from right to left unlike French or English for example.<br>\n",
    "So let's try to create an other colum that will contain reversed text :"
   ]
  },
  {
   "cell_type": "code",
   "execution_count": 5,
   "metadata": {
    "execution": {
     "iopub.execute_input": "2023-09-05T06:24:39.501384Z",
     "iopub.status.busy": "2023-09-05T06:24:39.501077Z",
     "iopub.status.idle": "2023-09-05T06:24:39.575982Z",
     "shell.execute_reply": "2023-09-05T06:24:39.575288Z",
     "shell.execute_reply.started": "2023-09-05T06:24:39.501323Z"
    }
   },
   "outputs": [
    {
     "data": {
      "text/html": [
       "<div>\n",
       "<style scoped>\n",
       "    .dataframe tbody tr th:only-of-type {\n",
       "        vertical-align: middle;\n",
       "    }\n",
       "\n",
       "    .dataframe tbody tr th {\n",
       "        vertical-align: top;\n",
       "    }\n",
       "\n",
       "    .dataframe thead th {\n",
       "        text-align: right;\n",
       "    }\n",
       "</style>\n",
       "<table border=\"1\" class=\"dataframe\">\n",
       "  <thead>\n",
       "    <tr style=\"text-align: right;\">\n",
       "      <th></th>\n",
       "      <th>text</th>\n",
       "      <th>text reversed</th>\n",
       "    </tr>\n",
       "  </thead>\n",
       "  <tbody>\n",
       "    <tr>\n",
       "      <th>0</th>\n",
       "      <td>زيد بن محمد بن جعفر: المعروف بابن أبي اليابس ا...</td>\n",
       "      <td>الكوفي. الحسين أبو العامري، اليابس أبي بابن ال...</td>\n",
       "    </tr>\n",
       "    <tr>\n",
       "      <th>1</th>\n",
       "      <td>حدث ببغداد عن: إبراهيم بن عبد الله القصار، ودا...</td>\n",
       "      <td>الحمار. موسى بن وأحمد الحبري، الحكم بن والحسين...</td>\n",
       "    </tr>\n",
       "    <tr>\n",
       "      <th>2</th>\n",
       "      <td>وعنه: ابن المظفر، وأبو حفص بن شاهين، وأبو الحس...</td>\n",
       "      <td>رزقويه. بن الحسن وأبو شاهين، بن حفص وأبو المظف...</td>\n",
       "    </tr>\n",
       "    <tr>\n",
       "      <th>3</th>\n",
       "      <td>قال الخطيب: كان صدوقا.</td>\n",
       "      <td>صدوقا. كان الخطيب: قال</td>\n",
       "    </tr>\n",
       "    <tr>\n",
       "      <th>4</th>\n",
       "      <td>حرف السين: سعيد بن إبراهيم بن معقل بن الحجاج: ...</td>\n",
       "      <td>النسفي. عثمان أبو الحجاج: بن معقل بن إبراهيم ب...</td>\n",
       "    </tr>\n",
       "  </tbody>\n",
       "</table>\n",
       "</div>"
      ],
      "text/plain": [
       "                                                text  \\\n",
       "0  زيد بن محمد بن جعفر: المعروف بابن أبي اليابس ا...   \n",
       "1  حدث ببغداد عن: إبراهيم بن عبد الله القصار، ودا...   \n",
       "2  وعنه: ابن المظفر، وأبو حفص بن شاهين، وأبو الحس...   \n",
       "3                             قال الخطيب: كان صدوقا.   \n",
       "4  حرف السين: سعيد بن إبراهيم بن معقل بن الحجاج: ...   \n",
       "\n",
       "                                       text reversed  \n",
       "0  الكوفي. الحسين أبو العامري، اليابس أبي بابن ال...  \n",
       "1  الحمار. موسى بن وأحمد الحبري، الحكم بن والحسين...  \n",
       "2  رزقويه. بن الحسن وأبو شاهين، بن حفص وأبو المظف...  \n",
       "3                             صدوقا. كان الخطيب: قال  \n",
       "4  النسفي. عثمان أبو الحجاج: بن معقل بن إبراهيم ب...  "
      ]
     },
     "execution_count": 5,
     "metadata": {},
     "output_type": "execute_result"
    }
   ],
   "source": [
    "def reverse_text(x):\n",
    "    x = list(reversed(x.split()))\n",
    "    x = ' '.join(x)\n",
    "    \n",
    "    return x\n",
    "\n",
    "data['text reversed'] = data['text'].apply(reverse_text)\n",
    "data.head()"
   ]
  },
  {
   "cell_type": "markdown",
   "metadata": {},
   "source": [
    "Note that we have reversed the order of the words only. Normally we need to reverse the characters in each word, but we know that text processing is generally done on the word level only."
   ]
  },
  {
   "cell_type": "markdown",
   "metadata": {},
   "source": [
    "Add a column that counts the number of words :"
   ]
  },
  {
   "cell_type": "code",
   "execution_count": 6,
   "metadata": {
    "execution": {
     "iopub.execute_input": "2023-09-05T06:24:39.579204Z",
     "iopub.status.busy": "2023-09-05T06:24:39.578917Z",
     "iopub.status.idle": "2023-09-05T06:24:39.633347Z",
     "shell.execute_reply": "2023-09-05T06:24:39.632296Z",
     "shell.execute_reply.started": "2023-09-05T06:24:39.579155Z"
    }
   },
   "outputs": [
    {
     "data": {
      "text/html": [
       "<div>\n",
       "<style scoped>\n",
       "    .dataframe tbody tr th:only-of-type {\n",
       "        vertical-align: middle;\n",
       "    }\n",
       "\n",
       "    .dataframe tbody tr th {\n",
       "        vertical-align: top;\n",
       "    }\n",
       "\n",
       "    .dataframe thead th {\n",
       "        text-align: right;\n",
       "    }\n",
       "</style>\n",
       "<table border=\"1\" class=\"dataframe\">\n",
       "  <thead>\n",
       "    <tr style=\"text-align: right;\">\n",
       "      <th></th>\n",
       "      <th>text</th>\n",
       "      <th>text reversed</th>\n",
       "      <th>words count</th>\n",
       "    </tr>\n",
       "  </thead>\n",
       "  <tbody>\n",
       "    <tr>\n",
       "      <th>0</th>\n",
       "      <td>زيد بن محمد بن جعفر: المعروف بابن أبي اليابس ا...</td>\n",
       "      <td>الكوفي. الحسين أبو العامري، اليابس أبي بابن ال...</td>\n",
       "      <td>13</td>\n",
       "    </tr>\n",
       "    <tr>\n",
       "      <th>1</th>\n",
       "      <td>حدث ببغداد عن: إبراهيم بن عبد الله القصار، ودا...</td>\n",
       "      <td>الحمار. موسى بن وأحمد الحبري، الحكم بن والحسين...</td>\n",
       "      <td>20</td>\n",
       "    </tr>\n",
       "    <tr>\n",
       "      <th>2</th>\n",
       "      <td>وعنه: ابن المظفر، وأبو حفص بن شاهين، وأبو الحس...</td>\n",
       "      <td>رزقويه. بن الحسن وأبو شاهين، بن حفص وأبو المظف...</td>\n",
       "      <td>11</td>\n",
       "    </tr>\n",
       "    <tr>\n",
       "      <th>3</th>\n",
       "      <td>قال الخطيب: كان صدوقا.</td>\n",
       "      <td>صدوقا. كان الخطيب: قال</td>\n",
       "      <td>4</td>\n",
       "    </tr>\n",
       "    <tr>\n",
       "      <th>4</th>\n",
       "      <td>حرف السين: سعيد بن إبراهيم بن معقل بن الحجاج: ...</td>\n",
       "      <td>النسفي. عثمان أبو الحجاج: بن معقل بن إبراهيم ب...</td>\n",
       "      <td>12</td>\n",
       "    </tr>\n",
       "  </tbody>\n",
       "</table>\n",
       "</div>"
      ],
      "text/plain": [
       "                                                text  \\\n",
       "0  زيد بن محمد بن جعفر: المعروف بابن أبي اليابس ا...   \n",
       "1  حدث ببغداد عن: إبراهيم بن عبد الله القصار، ودا...   \n",
       "2  وعنه: ابن المظفر، وأبو حفص بن شاهين، وأبو الحس...   \n",
       "3                             قال الخطيب: كان صدوقا.   \n",
       "4  حرف السين: سعيد بن إبراهيم بن معقل بن الحجاج: ...   \n",
       "\n",
       "                                       text reversed  words count  \n",
       "0  الكوفي. الحسين أبو العامري، اليابس أبي بابن ال...           13  \n",
       "1  الحمار. موسى بن وأحمد الحبري، الحكم بن والحسين...           20  \n",
       "2  رزقويه. بن الحسن وأبو شاهين، بن حفص وأبو المظف...           11  \n",
       "3                             صدوقا. كان الخطيب: قال            4  \n",
       "4  النسفي. عثمان أبو الحجاج: بن معقل بن إبراهيم ب...           12  "
      ]
     },
     "execution_count": 6,
     "metadata": {},
     "output_type": "execute_result"
    }
   ],
   "source": [
    "data['words count'] = data['text reversed'].apply(lambda x : len(x.split()))\n",
    "data.head()"
   ]
  },
  {
   "cell_type": "markdown",
   "metadata": {},
   "source": [
    "Take a look at the smallest sentences :"
   ]
  },
  {
   "cell_type": "code",
   "execution_count": 7,
   "metadata": {
    "execution": {
     "iopub.execute_input": "2023-09-05T06:24:39.635029Z",
     "iopub.status.busy": "2023-09-05T06:24:39.634712Z",
     "iopub.status.idle": "2023-09-05T06:24:39.651487Z",
     "shell.execute_reply": "2023-09-05T06:24:39.650519Z",
     "shell.execute_reply.started": "2023-09-05T06:24:39.634980Z"
    }
   },
   "outputs": [
    {
     "data": {
      "text/html": [
       "<div>\n",
       "<style scoped>\n",
       "    .dataframe tbody tr th:only-of-type {\n",
       "        vertical-align: middle;\n",
       "    }\n",
       "\n",
       "    .dataframe tbody tr th {\n",
       "        vertical-align: top;\n",
       "    }\n",
       "\n",
       "    .dataframe thead th {\n",
       "        text-align: right;\n",
       "    }\n",
       "</style>\n",
       "<table border=\"1\" class=\"dataframe\">\n",
       "  <thead>\n",
       "    <tr style=\"text-align: right;\">\n",
       "      <th></th>\n",
       "      <th>text</th>\n",
       "      <th>text reversed</th>\n",
       "      <th>words count</th>\n",
       "    </tr>\n",
       "  </thead>\n",
       "  <tbody>\n",
       "    <tr>\n",
       "      <th>42571</th>\n",
       "      <td>قهار.</td>\n",
       "      <td>قهار.</td>\n",
       "      <td>1</td>\n",
       "    </tr>\n",
       "    <tr>\n",
       "      <th>3553</th>\n",
       "      <td>.</td>\n",
       "      <td>.</td>\n",
       "      <td>1</td>\n",
       "    </tr>\n",
       "    <tr>\n",
       "      <th>17672</th>\n",
       "      <td>ذكر.</td>\n",
       "      <td>ذكر.</td>\n",
       "      <td>1</td>\n",
       "    </tr>\n",
       "    <tr>\n",
       "      <th>21343</th>\n",
       "      <td>إناث.</td>\n",
       "      <td>إناث.</td>\n",
       "      <td>1</td>\n",
       "    </tr>\n",
       "    <tr>\n",
       "      <th>3598</th>\n",
       "      <td>.</td>\n",
       "      <td>.</td>\n",
       "      <td>1</td>\n",
       "    </tr>\n",
       "  </tbody>\n",
       "</table>\n",
       "</div>"
      ],
      "text/plain": [
       "        text text reversed  words count\n",
       "42571  قهار.         قهار.            1\n",
       "3553       .             .            1\n",
       "17672   ذكر.          ذكر.            1\n",
       "21343  إناث.         إناث.            1\n",
       "3598       .             .            1"
      ]
     },
     "execution_count": 7,
     "metadata": {},
     "output_type": "execute_result"
    }
   ],
   "source": [
    "data = data.sort_values(by='words count', ascending=True)\n",
    "data.head()"
   ]
  },
  {
   "cell_type": "markdown",
   "metadata": {},
   "source": [
    "Take a look at the longest sentences :"
   ]
  },
  {
   "cell_type": "code",
   "execution_count": 8,
   "metadata": {
    "execution": {
     "iopub.execute_input": "2023-09-05T06:24:39.653646Z",
     "iopub.status.busy": "2023-09-05T06:24:39.653121Z",
     "iopub.status.idle": "2023-09-05T06:24:39.670632Z",
     "shell.execute_reply": "2023-09-05T06:24:39.669822Z",
     "shell.execute_reply.started": "2023-09-05T06:24:39.653419Z"
    }
   },
   "outputs": [
    {
     "data": {
      "text/html": [
       "<div>\n",
       "<style scoped>\n",
       "    .dataframe tbody tr th:only-of-type {\n",
       "        vertical-align: middle;\n",
       "    }\n",
       "\n",
       "    .dataframe tbody tr th {\n",
       "        vertical-align: top;\n",
       "    }\n",
       "\n",
       "    .dataframe thead th {\n",
       "        text-align: right;\n",
       "    }\n",
       "</style>\n",
       "<table border=\"1\" class=\"dataframe\">\n",
       "  <thead>\n",
       "    <tr style=\"text-align: right;\">\n",
       "      <th></th>\n",
       "      <th>text</th>\n",
       "      <th>text reversed</th>\n",
       "      <th>words count</th>\n",
       "    </tr>\n",
       "  </thead>\n",
       "  <tbody>\n",
       "    <tr>\n",
       "      <th>51822</th>\n",
       "      <td>قوله عن عروة في رواية شعيب عن الزهري في العتق ...</td>\n",
       "      <td>/ لقوله والكافر المسلم بين ولاية ولا بالولاية ...</td>\n",
       "      <td>9488</td>\n",
       "    </tr>\n",
       "    <tr>\n",
       "      <th>51848</th>\n",
       "      <td>فاعلة يقال أبدت تأبد إذا توحشت ويقال جاء فلان ...</td>\n",
       "      <td>ولذكاء وللفهم للظهور يطلق البيان قوله بعض بيع ...</td>\n",
       "      <td>9006</td>\n",
       "    </tr>\n",
       "    <tr>\n",
       "      <th>51880</th>\n",
       "      <td>طفا طفا الشيء فوق الماء يطفو طفوا وطفوا ظهر وع...</td>\n",
       "      <td>/ العطاء وهو شكد جمع والأشكاد الوظيف عصبة أيضا...</td>\n",
       "      <td>8537</td>\n",
       "    </tr>\n",
       "    <tr>\n",
       "      <th>51782</th>\n",
       "      <td>والدارقطني والخطابي والحاكم في علوم الحديث وال...</td>\n",
       "      <td>قبله الذي للحديث مفسر وهو لسيده وينصح ربه عباد...</td>\n",
       "      <td>7540</td>\n",
       "    </tr>\n",
       "    <tr>\n",
       "      <th>51866</th>\n",
       "      <td>سحف سحف رأسه سحفا وجلطه وسلته وسحته حلقه فاستأ...</td>\n",
       "      <td>اسم وسيهف هم ذو الوجه ساهف أني الحزن من أصابني...</td>\n",
       "      <td>7104</td>\n",
       "    </tr>\n",
       "  </tbody>\n",
       "</table>\n",
       "</div>"
      ],
      "text/plain": [
       "                                                    text  \\\n",
       "51822  قوله عن عروة في رواية شعيب عن الزهري في العتق ...   \n",
       "51848  فاعلة يقال أبدت تأبد إذا توحشت ويقال جاء فلان ...   \n",
       "51880  طفا طفا الشيء فوق الماء يطفو طفوا وطفوا ظهر وع...   \n",
       "51782  والدارقطني والخطابي والحاكم في علوم الحديث وال...   \n",
       "51866  سحف سحف رأسه سحفا وجلطه وسلته وسحته حلقه فاستأ...   \n",
       "\n",
       "                                           text reversed  words count  \n",
       "51822  / لقوله والكافر المسلم بين ولاية ولا بالولاية ...         9488  \n",
       "51848  ولذكاء وللفهم للظهور يطلق البيان قوله بعض بيع ...         9006  \n",
       "51880  / العطاء وهو شكد جمع والأشكاد الوظيف عصبة أيضا...         8537  \n",
       "51782  قبله الذي للحديث مفسر وهو لسيده وينصح ربه عباد...         7540  \n",
       "51866  اسم وسيهف هم ذو الوجه ساهف أني الحزن من أصابني...         7104  "
      ]
     },
     "execution_count": 8,
     "metadata": {},
     "output_type": "execute_result"
    }
   ],
   "source": [
    "data = data.sort_values(by='words count', ascending=False)\n",
    "data.head()"
   ]
  },
  {
   "cell_type": "markdown",
   "metadata": {},
   "source": [
    "Now, we will try to read the file into one text variable"
   ]
  },
  {
   "cell_type": "code",
   "execution_count": 9,
   "metadata": {
    "execution": {
     "iopub.execute_input": "2023-09-05T06:24:39.674148Z",
     "iopub.status.busy": "2023-09-05T06:24:39.673889Z",
     "iopub.status.idle": "2023-09-05T06:24:39.692387Z",
     "shell.execute_reply": "2023-09-05T06:24:39.691341Z",
     "shell.execute_reply.started": "2023-09-05T06:24:39.674097Z"
    }
   },
   "outputs": [
    {
     "data": {
      "text/plain": [
       "'زيد بن محمد بن جعفر: المعروف بابن أبي اليابس العامري، أبو الحسين الكوفي.\\nحدث ببغداد عن: إبراهيم بن عبد الله القصار، وداود بن يحيى الدهقان، والحسين بن الحكم الحبري، وأحمد بن موسى الحمار.\\nوعنه: ابن المظفر، وأبو حفص بن شاهين، وأبو الحسن بن رزقويه.\\nقال الخطيب: كان صدوقا.\\nحرف السين: سعيد بن إبراهيم بن معقل بن الحجاج: أبو عثمان النسفي.\\nرئيس أصحاب الحديث ببلده.\\nسمع: أباه، ومعمر بن محمد البلخي.\\nوبمكة: علي بن عبد العزيز، وغير واحد.\\nوعنه: ابنه عبد الملك.\\nوكان نقمة على القرامطة.\\nحرف الشين: شعبة بن الفضل بن سعيد: أبو الحسن التغلبي.\\nسمع: إدريس بن جعفر العطار، وبشر بن موسى، ومحمد بن عثمان بن أبي شيبة.\\nوعنه: أبو الفتح بن مسرور لكن سماه سعيدا، وقال: لقبه شعبة؛ وعبد الرحمن بن عمر النحاس، وآخرون.\\nوثقه الخطيب أبو بكر.\\nوحدث بمصر، وبها مات.\\nحرف العين: عبد الله بن عبد الرحمن بن أحمد بن حماد: الفقيه أبو العباس العسكري.\\nسمع: محمد بن عبيد الله المنادي، وأبا داود السجستاني، وأحمد بن ملاعب، وجماعة.\\nوعنه: ابن المظفر، والدارقطني، وابن رزقويه، وآخرون.\\nتوفي في ربيع الأول.\\nعبد الرحمن بن عمر بن سعيد البلوي الإسكندراني'"
      ]
     },
     "execution_count": 9,
     "metadata": {},
     "output_type": "execute_result"
    }
   ],
   "source": [
    "# read the random file into a variable\n",
    "with open(file_, 'r') as file:\n",
    "    text = file.read()\n",
    "    \n",
    "# the first 1000 characters\n",
    "text[0:1000]"
   ]
  },
  {
   "cell_type": "code",
   "execution_count": 10,
   "metadata": {
    "execution": {
     "iopub.execute_input": "2023-09-05T06:24:39.694323Z",
     "iopub.status.busy": "2023-09-05T06:24:39.693854Z",
     "iopub.status.idle": "2023-09-05T06:24:39.700667Z",
     "shell.execute_reply": "2023-09-05T06:24:39.699654Z",
     "shell.execute_reply.started": "2023-09-05T06:24:39.694111Z"
    }
   },
   "outputs": [
    {
     "data": {
      "text/plain": [
       "'عد خلاف ومشادة كلامية مع الكابتن سعد عبد الحميد ورغم إصابته فانه لعب مباريات في المرحلة الأولى وسجل منها هدفين من مجموع أهدافه الأربعة في الدوري والتي كانت ضد أندية صلاح الدين وبيرس وهدفين ضد الحدود في المرحلتين الأولى والثانية وبعد انتهاء هذا الموسم جدد علاء بالتوقيع للنفط من جديد موسم وبقيادة المدرب حميد سلمان بعد أن أجرى عملية جراحية لساقه اليسرى وسجل في هذا الموسم في مرمى ميسان هدفين في المرحلة الأولى والثانية كما سجل ضد الحدود  كانت بدايته مع منتخب الناشئين بقيادة عدنان حمد الذي يعتبر أحد المدربين ممن هم أصحاب الفضل في اكتشاف موهبة علاء ستار إضافة إلى كريم جواد ورياض سالم ثم شارك مع كتيبة ثائر جسام في تصفيات أسيا للشباب في بنغلادش وسجل مع منتخبي الناشئين والشباب عدة أهداف أجملها على النيبال وحصل مع منتخب الشباب على كاس آسيا للشباب بقيادة عدنان حمد بعدها مع منتخبنا الرديف ببطولة الاستقلال التي أقيمت في جاكارتا وحصل على فضيتها بعد الخسارة من اندنوسيا في النهائي إضافة إلى الكثير من المحافل الخارجية الأخرى وخاض أول مبارياته الدولية رغم قلتها أمام قطر في الدوحة مع المدرب برند ستانج الذي كان يساعده نزار اشرف وكريم علاوي والتي انتهت بفوز قطر ثم شارك مع كتيبة ستانج ومنتخبنا الأولمبي ببطولة أبها الدولية في السعودية والتي فاز منتخبنا بذهبيتها بعد الفوز في النهائي على المغرب بهدف يونس محمود كما شارك في التصفيات الأولمبية عام كما سجل مع الزوراء أحد أهداف الفوز في بطولة دوري أبطال أسيا أمام نادي باختكور الأوزبكستاني في طشقند في المباراة التي انتهت بنتيجة كما شارك في نفس العام مع الزوراء ببطولة تشرين الدولية في سوريا بمدينة اللاذقية وسجل علاء هدف التقدم في المباراة النهائية التي انتهت بفوز نادي تشرين السوري بضربات الجزاء الترجيحية كما شارك مع الزوراء ببطولة دمشق الدولية التي كان فيها النهائي عراقي خالص بين الزوراء والطلبة وانتهت المباراة للأنيق بضربات الجزاء الترجيحية كما شارك بدوري أبطال العرب مع الزوراء الذي خرج من دور الثمانية بعد خسارتين من نادي مولديه الجزائر إضافة إلى بطولات أخرى دولية ومحلية.. وعلاء حاليا بعيد عن الملاعب نتيجة للإصابات المستمرة التي يعاني منها هذا النجم.. والتي منعتنا من مشاهدة نجم كان يطلق عليه سابقا بأنه سيكون خليفة لأحمد راضي في الملاعب العراقية.\\n\\n'"
      ]
     },
     "execution_count": 10,
     "metadata": {},
     "output_type": "execute_result"
    }
   ],
   "source": [
    "# the last 1000 characters\n",
    "text[-2000:]"
   ]
  },
  {
   "cell_type": "markdown",
   "metadata": {},
   "source": [
    "We see that there is \\n characters and . character in the text that can be used to separate sentences\n",
    "Let's split the text by the . character first and see the results : "
   ]
  },
  {
   "cell_type": "code",
   "execution_count": 11,
   "metadata": {
    "execution": {
     "iopub.execute_input": "2023-09-05T06:24:39.702985Z",
     "iopub.status.busy": "2023-09-05T06:24:39.702403Z",
     "iopub.status.idle": "2023-09-05T06:24:39.725830Z",
     "shell.execute_reply": "2023-09-05T06:24:39.725054Z",
     "shell.execute_reply.started": "2023-09-05T06:24:39.702654Z"
    }
   },
   "outputs": [],
   "source": [
    "text_dot = text.split('.')\n",
    "\n",
    "# remove \\n character from the sentences\n",
    "text_dot = [x.replace('\\n', '') for x in text_dot]"
   ]
  },
  {
   "cell_type": "code",
   "execution_count": 12,
   "metadata": {
    "execution": {
     "iopub.execute_input": "2023-09-05T06:24:39.727711Z",
     "iopub.status.busy": "2023-09-05T06:24:39.727244Z",
     "iopub.status.idle": "2023-09-05T06:24:39.733899Z",
     "shell.execute_reply": "2023-09-05T06:24:39.733052Z",
     "shell.execute_reply.started": "2023-09-05T06:24:39.727522Z"
    }
   },
   "outputs": [
    {
     "name": "stdout",
     "output_type": "stream",
     "text": [
      "number of sentences using dot separator:  68209\n"
     ]
    }
   ],
   "source": [
    "print('number of sentences using dot separator: ', len(text_dot))"
   ]
  },
  {
   "cell_type": "code",
   "execution_count": 13,
   "metadata": {
    "execution": {
     "iopub.execute_input": "2023-09-05T06:24:39.735737Z",
     "iopub.status.busy": "2023-09-05T06:24:39.735265Z",
     "iopub.status.idle": "2023-09-05T06:24:39.749892Z",
     "shell.execute_reply": "2023-09-05T06:24:39.749253Z",
     "shell.execute_reply.started": "2023-09-05T06:24:39.735687Z"
    }
   },
   "outputs": [
    {
     "data": {
      "text/plain": [
       "['زيد بن محمد بن جعفر: المعروف بابن أبي اليابس العامري، أبو الحسين الكوفي',\n",
       " 'حدث ببغداد عن: إبراهيم بن عبد الله القصار، وداود بن يحيى الدهقان، والحسين بن الحكم الحبري، وأحمد بن موسى الحمار',\n",
       " 'وعنه: ابن المظفر، وأبو حفص بن شاهين، وأبو الحسن بن رزقويه',\n",
       " 'قال الخطيب: كان صدوقا',\n",
       " 'حرف السين: سعيد بن إبراهيم بن معقل بن الحجاج: أبو عثمان النسفي']"
      ]
     },
     "execution_count": 13,
     "metadata": {},
     "output_type": "execute_result"
    }
   ],
   "source": [
    "# take a look at the first lines\n",
    "text_dot[0:5]"
   ]
  },
  {
   "cell_type": "code",
   "execution_count": 14,
   "metadata": {
    "execution": {
     "iopub.execute_input": "2023-09-05T06:24:39.751651Z",
     "iopub.status.busy": "2023-09-05T06:24:39.751179Z",
     "iopub.status.idle": "2023-09-05T06:24:39.761434Z",
     "shell.execute_reply": "2023-09-05T06:24:39.760571Z",
     "shell.execute_reply.started": "2023-09-05T06:24:39.751601Z"
    }
   },
   "outputs": [
    {
     "data": {
      "text/plain": [
       "['',\n",
       " ' وعلاء حاليا بعيد عن الملاعب نتيجة للإصابات المستمرة التي يعاني منها هذا النجم',\n",
       " '',\n",
       " ' والتي منعتنا من مشاهدة نجم كان يطلق عليه سابقا بأنه سيكون خليفة لأحمد راضي في الملاعب العراقية',\n",
       " '']"
      ]
     },
     "execution_count": 14,
     "metadata": {},
     "output_type": "execute_result"
    }
   ],
   "source": [
    "# take a look at the last lines\n",
    "text_dot[-5:]"
   ]
  },
  {
   "cell_type": "markdown",
   "metadata": {},
   "source": [
    "Note that the numbers (ex : dates) were removed from the corpus"
   ]
  },
  {
   "cell_type": "code",
   "execution_count": 15,
   "metadata": {
    "execution": {
     "iopub.execute_input": "2023-09-05T06:24:39.763859Z",
     "iopub.status.busy": "2023-09-05T06:24:39.762871Z",
     "iopub.status.idle": "2023-09-05T06:24:39.849109Z",
     "shell.execute_reply": "2023-09-05T06:24:39.848289Z",
     "shell.execute_reply.started": "2023-09-05T06:24:39.763805Z"
    }
   },
   "outputs": [
    {
     "data": {
      "text/html": [
       "<div>\n",
       "<style scoped>\n",
       "    .dataframe tbody tr th:only-of-type {\n",
       "        vertical-align: middle;\n",
       "    }\n",
       "\n",
       "    .dataframe tbody tr th {\n",
       "        vertical-align: top;\n",
       "    }\n",
       "\n",
       "    .dataframe thead th {\n",
       "        text-align: right;\n",
       "    }\n",
       "</style>\n",
       "<table border=\"1\" class=\"dataframe\">\n",
       "  <thead>\n",
       "    <tr style=\"text-align: right;\">\n",
       "      <th></th>\n",
       "      <th>text</th>\n",
       "      <th>words count</th>\n",
       "      <th>text reversed</th>\n",
       "    </tr>\n",
       "  </thead>\n",
       "  <tbody>\n",
       "    <tr>\n",
       "      <th>67133</th>\n",
       "      <td>لا يذهب العرف بين الله والناس أو على أنه حال ...</td>\n",
       "      <td>212333</td>\n",
       "      <td>الهوى عن الدني النكس يوجد فاقتلوهفقد الرابعة أ...</td>\n",
       "    </tr>\n",
       "    <tr>\n",
       "      <th>67277</th>\n",
       "      <td>قال فكلمه بعض من حضر في قوله نضارة فقال أنشدن...</td>\n",
       "      <td>204037</td>\n",
       "      <td>أيكة حمامة بقادمتي تجلو ديوانه في وهو للنابغة ...</td>\n",
       "    </tr>\n",
       "    <tr>\n",
       "      <th>66026</th>\n",
       "      <td>فذكره سواء مختصرا الحديث الرابع قال النبي صلى...</td>\n",
       "      <td>116354</td>\n",
       "      <td>تعالى الله رحمه الناظم قال أعلم والله طير جوف ...</td>\n",
       "    </tr>\n",
       "    <tr>\n",
       "      <th>66599</th>\n",
       "      <td>وبنوا الصراط على زنة فعال لأنه يشتمل على سالك...</td>\n",
       "      <td>112951</td>\n",
       "      <td>عمره طول من يشكو القائل وهو الجاهلية في تعظمه ...</td>\n",
       "    </tr>\n",
       "    <tr>\n",
       "      <th>65651</th>\n",
       "      <td>هم الوشاة في الرضا والغضب عليهم اللعنة تترى و...</td>\n",
       "      <td>95094</td>\n",
       "      <td>الشاعر قال تبعكم أي وأشاعكم السلام شاعكم تقول ...</td>\n",
       "    </tr>\n",
       "  </tbody>\n",
       "</table>\n",
       "</div>"
      ],
      "text/plain": [
       "                                                    text  words count  \\\n",
       "67133   لا يذهب العرف بين الله والناس أو على أنه حال ...       212333   \n",
       "67277   قال فكلمه بعض من حضر في قوله نضارة فقال أنشدن...       204037   \n",
       "66026   فذكره سواء مختصرا الحديث الرابع قال النبي صلى...       116354   \n",
       "66599   وبنوا الصراط على زنة فعال لأنه يشتمل على سالك...       112951   \n",
       "65651   هم الوشاة في الرضا والغضب عليهم اللعنة تترى و...        95094   \n",
       "\n",
       "                                           text reversed  \n",
       "67133  الهوى عن الدني النكس يوجد فاقتلوهفقد الرابعة أ...  \n",
       "67277  أيكة حمامة بقادمتي تجلو ديوانه في وهو للنابغة ...  \n",
       "66026  تعالى الله رحمه الناظم قال أعلم والله طير جوف ...  \n",
       "66599  عمره طول من يشكو القائل وهو الجاهلية في تعظمه ...  \n",
       "65651  الشاعر قال تبعكم أي وأشاعكم السلام شاعكم تقول ...  "
      ]
     },
     "execution_count": 15,
     "metadata": {},
     "output_type": "execute_result"
    }
   ],
   "source": [
    "# put this in a dataframe\n",
    "data_2 = pd.DataFrame({'text' : text_dot, 'words count' : [len(x) for x in text_dot]})\n",
    "data_2['text reversed'] = data_2['text'].apply(reverse_text)\n",
    "data_2.sort_values(by='words count', ascending=False).head()"
   ]
  },
  {
   "cell_type": "code",
   "execution_count": 16,
   "metadata": {
    "execution": {
     "iopub.execute_input": "2023-09-05T06:24:39.851177Z",
     "iopub.status.busy": "2023-09-05T06:24:39.850731Z",
     "iopub.status.idle": "2023-09-05T06:24:39.872066Z",
     "shell.execute_reply": "2023-09-05T06:24:39.871133Z",
     "shell.execute_reply.started": "2023-09-05T06:24:39.850998Z"
    }
   },
   "outputs": [
    {
     "data": {
      "text/html": [
       "<div>\n",
       "<style scoped>\n",
       "    .dataframe tbody tr th:only-of-type {\n",
       "        vertical-align: middle;\n",
       "    }\n",
       "\n",
       "    .dataframe tbody tr th {\n",
       "        vertical-align: top;\n",
       "    }\n",
       "\n",
       "    .dataframe thead th {\n",
       "        text-align: right;\n",
       "    }\n",
       "</style>\n",
       "<table border=\"1\" class=\"dataframe\">\n",
       "  <thead>\n",
       "    <tr style=\"text-align: right;\">\n",
       "      <th></th>\n",
       "      <th>words count</th>\n",
       "    </tr>\n",
       "  </thead>\n",
       "  <tbody>\n",
       "    <tr>\n",
       "      <th>count</th>\n",
       "      <td>68209.000000</td>\n",
       "    </tr>\n",
       "    <tr>\n",
       "      <th>mean</th>\n",
       "      <td>167.647143</td>\n",
       "    </tr>\n",
       "    <tr>\n",
       "      <th>std</th>\n",
       "      <td>1596.144610</td>\n",
       "    </tr>\n",
       "    <tr>\n",
       "      <th>min</th>\n",
       "      <td>0.000000</td>\n",
       "    </tr>\n",
       "    <tr>\n",
       "      <th>25%</th>\n",
       "      <td>21.000000</td>\n",
       "    </tr>\n",
       "    <tr>\n",
       "      <th>50%</th>\n",
       "      <td>75.000000</td>\n",
       "    </tr>\n",
       "    <tr>\n",
       "      <th>75%</th>\n",
       "      <td>167.000000</td>\n",
       "    </tr>\n",
       "    <tr>\n",
       "      <th>max</th>\n",
       "      <td>212333.000000</td>\n",
       "    </tr>\n",
       "  </tbody>\n",
       "</table>\n",
       "</div>"
      ],
      "text/plain": [
       "         words count\n",
       "count   68209.000000\n",
       "mean      167.647143\n",
       "std      1596.144610\n",
       "min         0.000000\n",
       "25%        21.000000\n",
       "50%        75.000000\n",
       "75%       167.000000\n",
       "max    212333.000000"
      ]
     },
     "execution_count": 16,
     "metadata": {},
     "output_type": "execute_result"
    }
   ],
   "source": [
    "data_2.describe()"
   ]
  },
  {
   "cell_type": "markdown",
   "metadata": {},
   "source": [
    "Let's create a function that removes stop words and punctuation characters"
   ]
  },
  {
   "cell_type": "code",
   "execution_count": 17,
   "metadata": {
    "execution": {
     "iopub.execute_input": "2023-09-05T06:24:39.874069Z",
     "iopub.status.busy": "2023-09-05T06:24:39.873630Z",
     "iopub.status.idle": "2023-09-05T06:24:39.879800Z",
     "shell.execute_reply": "2023-09-05T06:24:39.878825Z",
     "shell.execute_reply.started": "2023-09-05T06:24:39.873882Z"
    }
   },
   "outputs": [],
   "source": [
    "def remove_sw_and_punc(text_):\n",
    "    # free memory\n",
    "#     gc.collect()\n",
    "    nlp = Arabic()\n",
    "    tokens  = nlp(text_)\n",
    "    return [token for i, token in enumerate(tokens) if not token.is_stop and not token.is_punct]\n",
    "    \n",
    "    "
   ]
  },
  {
   "cell_type": "code",
   "execution_count": 18,
   "metadata": {
    "execution": {
     "iopub.execute_input": "2023-09-05T06:24:39.881738Z",
     "iopub.status.busy": "2023-09-05T06:24:39.881172Z",
     "iopub.status.idle": "2023-09-05T06:24:39.960597Z",
     "shell.execute_reply": "2023-09-05T06:24:39.959827Z",
     "shell.execute_reply.started": "2023-09-05T06:24:39.881652Z"
    }
   },
   "outputs": [
    {
     "data": {
      "text/plain": [
       "[ماهي, أبرز, التطورات, السياسية, الأمنية, والاجتماعية, العالم]"
      ]
     },
     "execution_count": 18,
     "metadata": {},
     "output_type": "execute_result"
    }
   ],
   "source": [
    "# test the function\n",
    "remove_sw_and_punc(\"ماهي أبرز التطورات السياسية، الأمنية والاجتماعية في العالم ؟\")"
   ]
  },
  {
   "cell_type": "markdown",
   "metadata": {},
   "source": [
    "# ****Training Arabic Corpus****\n",
    "[credit](https://rare-technologies.com/word2vec-tutorial/)"
   ]
  },
  {
   "cell_type": "code",
   "execution_count": 19,
   "metadata": {
    "execution": {
     "iopub.execute_input": "2023-09-05T06:24:39.968552Z",
     "iopub.status.busy": "2023-09-05T06:24:39.968004Z",
     "iopub.status.idle": "2023-09-05T06:24:40.040167Z",
     "shell.execute_reply": "2023-09-05T06:24:40.039405Z",
     "shell.execute_reply.started": "2023-09-05T06:24:39.968285Z"
    }
   },
   "outputs": [
    {
     "data": {
      "text/plain": [
       "0"
      ]
     },
     "execution_count": 19,
     "metadata": {},
     "output_type": "execute_result"
    }
   ],
   "source": [
    "# First clean memory\n",
    "del data\n",
    "del data_2\n",
    "gc.collect()"
   ]
  },
  {
   "cell_type": "code",
   "execution_count": 20,
   "metadata": {
    "execution": {
     "iopub.execute_input": "2023-09-05T06:24:40.042349Z",
     "iopub.status.busy": "2023-09-05T06:24:40.041955Z",
     "iopub.status.idle": "2023-09-05T06:24:40.051731Z",
     "shell.execute_reply": "2023-09-05T06:24:40.050763Z",
     "shell.execute_reply.started": "2023-09-05T06:24:40.042225Z"
    }
   },
   "outputs": [],
   "source": [
    "class MySentences(object):\n",
    "    def __init__(self, dirname, splitter = '\\n'):\n",
    "        self.dirname = dirname\n",
    "        self.splitter = splitter\n",
    " \n",
    "    def __iter__(self):\n",
    "        for fname in os.listdir(self.dirname):\n",
    "            # read file an split by \\n\n",
    "            with open(os.path.join(self.dirname, fname), 'r') as file:\n",
    "                text = file.read()\n",
    "            text = text.split(self.splitter)\n",
    "            for line in text:\n",
    "                # won't use it for now as we get memory exceeded error ! just split text\n",
    "#                 line = remove_sw_and_punc(line) # remove stop words and punct. and returns a list of words\n",
    "                line = line.split() # get the text in a list of words\n",
    "                # reverse list because arabic reads from right to left !\n",
    "                line = list(reversed(line))\n",
    "                yield line"
   ]
  },
  {
   "cell_type": "code",
   "execution_count": 21,
   "metadata": {
    "execution": {
     "iopub.execute_input": "2023-09-05T06:24:40.053512Z",
     "iopub.status.busy": "2023-09-05T06:24:40.053005Z"
    }
   },
   "outputs": [],
   "source": [
    "sentences = MySentences('/kaggle/input/arwiki_books_shards/content/sharded') # a memory-friendly iterator\n",
    "model = Word2Vec(sentences)"
   ]
  },
  {
   "cell_type": "code",
   "execution_count": 22,
   "metadata": {},
   "outputs": [],
   "source": [
    "model.save(\"word2vec.model\")"
   ]
  },
  {
   "cell_type": "code",
   "execution_count": 23,
   "metadata": {},
   "outputs": [
    {
     "data": {
      "text/plain": [
       "array([ 1.0104702 ,  2.430672  ,  0.7731455 ,  0.77724564, -0.3688324 ,\n",
       "       -0.02506618,  0.894535  ,  0.28758577, -1.6997569 , -1.4773976 ,\n",
       "       -0.73162925,  1.2438555 ,  0.41841665, -1.0216689 , -0.37946466,\n",
       "        3.5167632 , -0.23662491, -0.06168545,  1.4122976 , -0.62926173,\n",
       "        4.3615584 ,  1.4523987 ,  2.0753465 , -0.27418175, -1.9324901 ,\n",
       "       -0.45493454, -2.8136609 ,  0.10908411, -0.9994772 , -1.4642388 ,\n",
       "        1.2633066 ,  0.6484049 , -0.8990293 , -1.5088811 , -0.0838986 ,\n",
       "        0.9348607 ,  1.2784283 , -0.11465404,  0.8257239 , -2.1521156 ,\n",
       "        0.99173135, -1.6406078 , -0.79281455,  0.6000387 , -4.028433  ,\n",
       "       -0.8285572 , -2.851047  ,  1.2855773 ,  2.1874597 ,  1.746882  ,\n",
       "       -0.37815326, -1.1073989 , -0.5202484 ,  5.4930716 , -0.24959347,\n",
       "        1.6950998 , -1.8424301 , -2.096298  , -3.5287833 ,  0.25051892,\n",
       "       -0.40514553, -3.7662165 ,  4.0990977 , -0.9424642 , -0.26397339,\n",
       "       -0.8065114 ,  2.4079704 , -1.277007  ,  1.9470444 , -1.0508846 ,\n",
       "        0.5680248 , -3.793463  ,  3.1756551 ,  3.5791376 , -3.5469997 ,\n",
       "       -1.741253  ,  3.0727944 , -1.1787443 , -2.7904775 ,  4.6968756 ,\n",
       "       -0.86125314, -1.8197877 , -0.08064334, -0.6169887 , -0.10901573,\n",
       "       -2.0076535 , -1.1385323 ,  0.14089906, -2.947462  , -2.0550537 ,\n",
       "       -0.32619002,  3.0282032 ,  0.1457425 , -2.1028988 ,  0.44281763,\n",
       "       -0.94526553,  0.97320366, -0.41332477,  1.0311172 , -1.823017  ],\n",
       "      dtype=float32)"
      ]
     },
     "execution_count": 23,
     "metadata": {},
     "output_type": "execute_result"
    }
   ],
   "source": [
    "# embedding of love\n",
    "vector = model.wv['حب']\n",
    "vector"
   ]
  },
  {
   "cell_type": "code",
   "execution_count": 24,
   "metadata": {},
   "outputs": [
    {
     "name": "stdout",
     "output_type": "stream",
     "text": [
      "[('وحب', 0.785637378692627), ('فحب', 0.7165203094482422), ('الحب', 0.6648672819137573), ('حبه', 0.6577664017677307), ('محبة', 0.6569615602493286), ('والحب', 0.6508806943893433), ('حبا', 0.6284101605415344), ('لحب', 0.6230635046958923), ('وعشق', 0.6184947490692139), ('بحب', 0.6156246662139893)]\n"
     ]
    }
   ],
   "source": [
    "sims = model.wv.most_similar('حب', topn=10)\n",
    "print(sims)"
   ]
  },
  {
   "cell_type": "code",
   "execution_count": 25,
   "metadata": {},
   "outputs": [
    {
     "data": {
      "text/plain": [
       "array([ 0.73679954, -5.364433  ,  2.3980696 , -0.5434981 ,  2.8935876 ,\n",
       "        2.493084  ,  0.0507003 , -1.9021779 ,  0.8683302 ,  0.5848708 ,\n",
       "        1.6783851 ,  0.26133633,  0.06136704, -0.5810713 , -0.17748466,\n",
       "        0.29832548,  0.5005483 ,  0.6732952 ,  0.8383038 ,  3.41848   ,\n",
       "        1.0394856 ,  0.16484839, -0.3858048 , -0.659515  ,  6.591456  ,\n",
       "        3.6856885 ,  0.34697172, -1.0669267 , -0.6228201 ,  1.3555706 ,\n",
       "        0.5860797 , -0.9287194 ,  2.5301907 ,  1.0510671 , -3.3038003 ,\n",
       "       -3.12347   , -1.8136512 ,  2.12472   , -1.8231436 ,  0.7365643 ,\n",
       "        0.4483917 ,  0.40165588,  1.4579067 ,  2.949197  ,  2.0059729 ,\n",
       "        2.8807151 , -0.9716648 , -4.0685678 , -0.5472251 , -0.3914817 ,\n",
       "        1.4372985 ,  0.23140708, -1.3177879 , -2.0943913 ,  0.14405084,\n",
       "       -2.558188  , -2.7722208 ,  1.0180699 , -2.5434153 ,  1.7598586 ,\n",
       "       -1.2936295 ,  1.1624461 ,  1.382615  ,  0.5319775 , -0.07660569,\n",
       "       -0.03359473, -1.1232122 ,  7.3378267 ,  0.98226464,  0.6598102 ,\n",
       "       -4.819539  ,  0.0105174 , -2.108829  ,  0.37405148, -1.6013793 ,\n",
       "       -1.81087   ,  2.9205146 ,  1.1565635 , -0.32880917, -3.7957976 ,\n",
       "        2.1218836 , -1.1540504 ,  0.07988285, -1.9498252 ,  1.0490699 ,\n",
       "        1.9614447 ,  2.2759483 ,  1.6198184 , -0.9095128 ,  2.209953  ,\n",
       "        2.3949924 ,  0.18443829, -0.9639816 ,  1.6622287 ,  1.2420173 ,\n",
       "        4.5182137 ,  3.1698732 , -2.4861088 , -0.29224598, -3.1655986 ],\n",
       "      dtype=float32)"
      ]
     },
     "execution_count": 25,
     "metadata": {},
     "output_type": "execute_result"
    }
   ],
   "source": [
    "# embedding of evolutions ('التطورات')\n",
    "vector = model.wv['التطورات']\n",
    "vector"
   ]
  },
  {
   "cell_type": "code",
   "execution_count": 26,
   "metadata": {},
   "outputs": [
    {
     "name": "stdout",
     "output_type": "stream",
     "text": [
      "[('التحولات', 0.8750647306442261), ('التغييرات', 0.8372082710266113), ('الابتكارات', 0.8325063586235046), ('التغيرات', 0.8191807270050049), ('الاكتشافات', 0.8177353143692017), ('التحليلات', 0.8168216347694397), ('الإنجازات', 0.8126815557479858), ('النقاشات', 0.8104127645492554), ('المستجدات', 0.8078758716583252), ('الاختراعات', 0.8067344427108765)]\n"
     ]
    }
   ],
   "source": [
    "sims = model.wv.most_similar('التطورات', topn=10)\n",
    "print(sims)"
   ]
  }
 ],
 "kernelspec": {
  "display_name": "Python 3",
  "language": "python",
  "name": "python3"
 },
 "language_info": {
  "codemirror_mode": {
   "name": "ipython",
   "version": 3
  },
  "file_extension": ".py",
  "mimetype": "text/x-python",
  "name": "python",
  "nbconvert_exporter": "python",
  "pygments_lexer": "ipython3",
  "version": "3.6.4"
 },
 "metadata": {
  "kernelspec": {
   "display_name": "Python 3",
   "language": "python",
   "name": "python3"
  },
  "language_info": {
   "codemirror_mode": {
    "name": "ipython",
    "version": 3
   },
   "file_extension": ".py",
   "mimetype": "text/x-python",
   "name": "python",
   "nbconvert_exporter": "python",
   "pygments_lexer": "ipython3",
   "version": "3.6.6"
  }
 },
 "nbformat": 4,
 "nbformat_minor": 4
}
